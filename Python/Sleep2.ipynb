{
 "cells": [
  {
   "cell_type": "code",
   "execution_count": 20,
   "metadata": {},
   "outputs": [],
   "source": [
    "import pandas as pd\n",
    "import numpy as np\n",
    "data = pd.read_csv(r'C:\\Users\\Ahmed Rehman\\Downloads\\Sleep_health_and_lifestyle_dataset.csv')"
   ]
  },
  {
   "cell_type": "code",
   "execution_count": 21,
   "metadata": {},
   "outputs": [
    {
     "data": {
      "text/html": [
       "<div>\n",
       "<style scoped>\n",
       "    .dataframe tbody tr th:only-of-type {\n",
       "        vertical-align: middle;\n",
       "    }\n",
       "\n",
       "    .dataframe tbody tr th {\n",
       "        vertical-align: top;\n",
       "    }\n",
       "\n",
       "    .dataframe thead th {\n",
       "        text-align: right;\n",
       "    }\n",
       "</style>\n",
       "<table border=\"1\" class=\"dataframe\">\n",
       "  <thead>\n",
       "    <tr style=\"text-align: right;\">\n",
       "      <th></th>\n",
       "      <th>Person ID</th>\n",
       "      <th>Gender</th>\n",
       "      <th>Age</th>\n",
       "      <th>Occupation</th>\n",
       "      <th>Sleep Duration</th>\n",
       "      <th>Quality of Sleep</th>\n",
       "      <th>Physical Activity Level</th>\n",
       "      <th>Stress Level</th>\n",
       "      <th>BMI Category</th>\n",
       "      <th>Blood Pressure</th>\n",
       "      <th>Heart Rate</th>\n",
       "      <th>Daily Steps</th>\n",
       "      <th>Sleep Disorder</th>\n",
       "    </tr>\n",
       "  </thead>\n",
       "  <tbody>\n",
       "    <tr>\n",
       "      <th>0</th>\n",
       "      <td>1</td>\n",
       "      <td>Male</td>\n",
       "      <td>27</td>\n",
       "      <td>Software Engineer</td>\n",
       "      <td>6.1</td>\n",
       "      <td>6</td>\n",
       "      <td>42</td>\n",
       "      <td>6</td>\n",
       "      <td>Overweight</td>\n",
       "      <td>126/83</td>\n",
       "      <td>77</td>\n",
       "      <td>4200</td>\n",
       "      <td>NaN</td>\n",
       "    </tr>\n",
       "    <tr>\n",
       "      <th>1</th>\n",
       "      <td>2</td>\n",
       "      <td>Male</td>\n",
       "      <td>28</td>\n",
       "      <td>Doctor</td>\n",
       "      <td>6.2</td>\n",
       "      <td>6</td>\n",
       "      <td>60</td>\n",
       "      <td>8</td>\n",
       "      <td>Normal</td>\n",
       "      <td>125/80</td>\n",
       "      <td>75</td>\n",
       "      <td>10000</td>\n",
       "      <td>NaN</td>\n",
       "    </tr>\n",
       "  </tbody>\n",
       "</table>\n",
       "</div>"
      ],
      "text/plain": [
       "   Person ID Gender  Age         Occupation  Sleep Duration  Quality of Sleep  \\\n",
       "0          1   Male   27  Software Engineer             6.1                 6   \n",
       "1          2   Male   28             Doctor             6.2                 6   \n",
       "\n",
       "   Physical Activity Level  Stress Level BMI Category Blood Pressure  \\\n",
       "0                       42             6   Overweight         126/83   \n",
       "1                       60             8       Normal         125/80   \n",
       "\n",
       "   Heart Rate  Daily Steps Sleep Disorder  \n",
       "0          77         4200            NaN  \n",
       "1          75        10000            NaN  "
      ]
     },
     "execution_count": 21,
     "metadata": {},
     "output_type": "execute_result"
    }
   ],
   "source": [
    "data.head(2)"
   ]
  },
  {
   "cell_type": "code",
   "execution_count": 22,
   "metadata": {},
   "outputs": [
    {
     "name": "stdout",
     "output_type": "stream",
     "text": [
      "<class 'pandas.core.frame.DataFrame'>\n",
      "RangeIndex: 374 entries, 0 to 373\n",
      "Data columns (total 13 columns):\n",
      " #   Column                   Non-Null Count  Dtype  \n",
      "---  ------                   --------------  -----  \n",
      " 0   Person ID                374 non-null    int64  \n",
      " 1   Gender                   374 non-null    object \n",
      " 2   Age                      374 non-null    int64  \n",
      " 3   Occupation               374 non-null    object \n",
      " 4   Sleep Duration           374 non-null    float64\n",
      " 5   Quality of Sleep         374 non-null    int64  \n",
      " 6   Physical Activity Level  374 non-null    int64  \n",
      " 7   Stress Level             374 non-null    int64  \n",
      " 8   BMI Category             374 non-null    object \n",
      " 9   Blood Pressure           374 non-null    object \n",
      " 10  Heart Rate               374 non-null    int64  \n",
      " 11  Daily Steps              374 non-null    int64  \n",
      " 12  Sleep Disorder           155 non-null    object \n",
      "dtypes: float64(1), int64(7), object(5)\n",
      "memory usage: 38.1+ KB\n"
     ]
    }
   ],
   "source": [
    "data.info()"
   ]
  },
  {
   "cell_type": "code",
   "execution_count": 23,
   "metadata": {},
   "outputs": [
    {
     "data": {
      "text/html": [
       "<div>\n",
       "<style scoped>\n",
       "    .dataframe tbody tr th:only-of-type {\n",
       "        vertical-align: middle;\n",
       "    }\n",
       "\n",
       "    .dataframe tbody tr th {\n",
       "        vertical-align: top;\n",
       "    }\n",
       "\n",
       "    .dataframe thead th {\n",
       "        text-align: right;\n",
       "    }\n",
       "</style>\n",
       "<table border=\"1\" class=\"dataframe\">\n",
       "  <thead>\n",
       "    <tr style=\"text-align: right;\">\n",
       "      <th></th>\n",
       "      <th>Person ID</th>\n",
       "      <th>Age</th>\n",
       "      <th>Sleep Duration</th>\n",
       "      <th>Quality of Sleep</th>\n",
       "      <th>Physical Activity Level</th>\n",
       "      <th>Stress Level</th>\n",
       "      <th>Heart Rate</th>\n",
       "      <th>Daily Steps</th>\n",
       "    </tr>\n",
       "  </thead>\n",
       "  <tbody>\n",
       "    <tr>\n",
       "      <th>count</th>\n",
       "      <td>374.000000</td>\n",
       "      <td>374.000000</td>\n",
       "      <td>374.000000</td>\n",
       "      <td>374.000000</td>\n",
       "      <td>374.000000</td>\n",
       "      <td>374.000000</td>\n",
       "      <td>374.000000</td>\n",
       "      <td>374.000000</td>\n",
       "    </tr>\n",
       "    <tr>\n",
       "      <th>mean</th>\n",
       "      <td>187.500000</td>\n",
       "      <td>42.184492</td>\n",
       "      <td>7.132086</td>\n",
       "      <td>7.312834</td>\n",
       "      <td>59.171123</td>\n",
       "      <td>5.385027</td>\n",
       "      <td>70.165775</td>\n",
       "      <td>6816.844920</td>\n",
       "    </tr>\n",
       "    <tr>\n",
       "      <th>std</th>\n",
       "      <td>108.108742</td>\n",
       "      <td>8.673133</td>\n",
       "      <td>0.795657</td>\n",
       "      <td>1.196956</td>\n",
       "      <td>20.830804</td>\n",
       "      <td>1.774526</td>\n",
       "      <td>4.135676</td>\n",
       "      <td>1617.915679</td>\n",
       "    </tr>\n",
       "    <tr>\n",
       "      <th>min</th>\n",
       "      <td>1.000000</td>\n",
       "      <td>27.000000</td>\n",
       "      <td>5.800000</td>\n",
       "      <td>4.000000</td>\n",
       "      <td>30.000000</td>\n",
       "      <td>3.000000</td>\n",
       "      <td>65.000000</td>\n",
       "      <td>3000.000000</td>\n",
       "    </tr>\n",
       "    <tr>\n",
       "      <th>25%</th>\n",
       "      <td>94.250000</td>\n",
       "      <td>35.250000</td>\n",
       "      <td>6.400000</td>\n",
       "      <td>6.000000</td>\n",
       "      <td>45.000000</td>\n",
       "      <td>4.000000</td>\n",
       "      <td>68.000000</td>\n",
       "      <td>5600.000000</td>\n",
       "    </tr>\n",
       "    <tr>\n",
       "      <th>50%</th>\n",
       "      <td>187.500000</td>\n",
       "      <td>43.000000</td>\n",
       "      <td>7.200000</td>\n",
       "      <td>7.000000</td>\n",
       "      <td>60.000000</td>\n",
       "      <td>5.000000</td>\n",
       "      <td>70.000000</td>\n",
       "      <td>7000.000000</td>\n",
       "    </tr>\n",
       "    <tr>\n",
       "      <th>75%</th>\n",
       "      <td>280.750000</td>\n",
       "      <td>50.000000</td>\n",
       "      <td>7.800000</td>\n",
       "      <td>8.000000</td>\n",
       "      <td>75.000000</td>\n",
       "      <td>7.000000</td>\n",
       "      <td>72.000000</td>\n",
       "      <td>8000.000000</td>\n",
       "    </tr>\n",
       "    <tr>\n",
       "      <th>max</th>\n",
       "      <td>374.000000</td>\n",
       "      <td>59.000000</td>\n",
       "      <td>8.500000</td>\n",
       "      <td>9.000000</td>\n",
       "      <td>90.000000</td>\n",
       "      <td>8.000000</td>\n",
       "      <td>86.000000</td>\n",
       "      <td>10000.000000</td>\n",
       "    </tr>\n",
       "  </tbody>\n",
       "</table>\n",
       "</div>"
      ],
      "text/plain": [
       "        Person ID         Age  Sleep Duration  Quality of Sleep  \\\n",
       "count  374.000000  374.000000      374.000000        374.000000   \n",
       "mean   187.500000   42.184492        7.132086          7.312834   \n",
       "std    108.108742    8.673133        0.795657          1.196956   \n",
       "min      1.000000   27.000000        5.800000          4.000000   \n",
       "25%     94.250000   35.250000        6.400000          6.000000   \n",
       "50%    187.500000   43.000000        7.200000          7.000000   \n",
       "75%    280.750000   50.000000        7.800000          8.000000   \n",
       "max    374.000000   59.000000        8.500000          9.000000   \n",
       "\n",
       "       Physical Activity Level  Stress Level  Heart Rate   Daily Steps  \n",
       "count               374.000000    374.000000  374.000000    374.000000  \n",
       "mean                 59.171123      5.385027   70.165775   6816.844920  \n",
       "std                  20.830804      1.774526    4.135676   1617.915679  \n",
       "min                  30.000000      3.000000   65.000000   3000.000000  \n",
       "25%                  45.000000      4.000000   68.000000   5600.000000  \n",
       "50%                  60.000000      5.000000   70.000000   7000.000000  \n",
       "75%                  75.000000      7.000000   72.000000   8000.000000  \n",
       "max                  90.000000      8.000000   86.000000  10000.000000  "
      ]
     },
     "execution_count": 23,
     "metadata": {},
     "output_type": "execute_result"
    }
   ],
   "source": [
    "data.describe()"
   ]
  },
  {
   "cell_type": "code",
   "execution_count": 24,
   "metadata": {},
   "outputs": [
    {
     "data": {
      "text/plain": [
       "count    374.000000\n",
       "mean      70.165775\n",
       "std        4.135676\n",
       "min       65.000000\n",
       "25%       68.000000\n",
       "50%       70.000000\n",
       "75%       72.000000\n",
       "max       86.000000\n",
       "Name: Heart Rate, dtype: float64"
      ]
     },
     "execution_count": 24,
     "metadata": {},
     "output_type": "execute_result"
    }
   ],
   "source": [
    "data['Heart Rate'].describe()"
   ]
  },
  {
   "cell_type": "code",
   "execution_count": 25,
   "metadata": {},
   "outputs": [
    {
     "data": {
      "text/plain": [
       "Heart Rate\n",
       "68    94\n",
       "70    76\n",
       "72    69\n",
       "65    67\n",
       "75    36\n",
       "78     5\n",
       "85     3\n",
       "80     3\n",
       "84     2\n",
       "83     2\n",
       "73     2\n",
       "67     2\n",
       "74     2\n",
       "77     2\n",
       "81     2\n",
       "76     2\n",
       "69     2\n",
       "86     2\n",
       "82     1\n",
       "Name: count, dtype: int64"
      ]
     },
     "execution_count": 25,
     "metadata": {},
     "output_type": "execute_result"
    }
   ],
   "source": [
    "data['Heart Rate'].value_counts()"
   ]
  },
  {
   "cell_type": "code",
   "execution_count": 27,
   "metadata": {},
   "outputs": [],
   "source": [
    "data1 = data[data['Heart Rate'] >= 35]"
   ]
  },
  {
   "cell_type": "code",
   "execution_count": 32,
   "metadata": {},
   "outputs": [
    {
     "name": "stdout",
     "output_type": "stream",
     "text": [
      "mean Sleep Quaility of a person with a noraml BMI is: 7.7\n",
      "median Sleep Quaility of a person with a noraml BMI is: 8.0\n"
     ]
    }
   ],
   "source": [
    "avg = data[data1['BMI Category'] == 'Normal']\n",
    "print('mean Sleep Quaility of a person with a noraml BMI is:', round(avg['Quality of Sleep'].mean(), 1))\n",
    "print('median Sleep Quaility of a person with a noraml BMI is:', round(avg['Quality of Sleep'].median(), 1))"
   ]
  },
  {
   "cell_type": "code",
   "execution_count": 34,
   "metadata": {},
   "outputs": [
    {
     "name": "stdout",
     "output_type": "stream",
     "text": [
      "Average Male Stress Level is 6.0\n"
     ]
    }
   ],
   "source": [
    "male = data[data['Gender'] == 'Male']\n",
    "print('Average Male Stress Level is', round(male['Stress Level'].mean(), 0))"
   ]
  },
  {
   "cell_type": "code",
   "execution_count": 39,
   "metadata": {},
   "outputs": [
    {
     "name": "stdout",
     "output_type": "stream",
     "text": [
      "The number of Males Stress Level with a stress level higher than 3 is: 185\n"
     ]
    }
   ],
   "source": [
    "print('The number of Males Stress Level with a stress level higher than 3 is:', male[male['Stress Level'] > 3]['Stress Level'].count())"
   ]
  },
  {
   "cell_type": "code",
   "execution_count": 50,
   "metadata": {},
   "outputs": [
    {
     "data": {
      "text/html": [
       "<div>\n",
       "<style scoped>\n",
       "    .dataframe tbody tr th:only-of-type {\n",
       "        vertical-align: middle;\n",
       "    }\n",
       "\n",
       "    .dataframe tbody tr th {\n",
       "        vertical-align: top;\n",
       "    }\n",
       "\n",
       "    .dataframe thead th {\n",
       "        text-align: right;\n",
       "    }\n",
       "</style>\n",
       "<table border=\"1\" class=\"dataframe\">\n",
       "  <thead>\n",
       "    <tr style=\"text-align: right;\">\n",
       "      <th></th>\n",
       "      <th></th>\n",
       "      <th>Person ID</th>\n",
       "      <th>Age</th>\n",
       "      <th>Occupation</th>\n",
       "      <th>Sleep Duration</th>\n",
       "      <th>Quality of Sleep</th>\n",
       "      <th>Physical Activity Level</th>\n",
       "      <th>Stress Level</th>\n",
       "      <th>Blood Pressure</th>\n",
       "      <th>Heart Rate</th>\n",
       "      <th>Daily Steps</th>\n",
       "      <th>Sleep Disorder</th>\n",
       "    </tr>\n",
       "    <tr>\n",
       "      <th>Gender</th>\n",
       "      <th>BMI Category</th>\n",
       "      <th></th>\n",
       "      <th></th>\n",
       "      <th></th>\n",
       "      <th></th>\n",
       "      <th></th>\n",
       "      <th></th>\n",
       "      <th></th>\n",
       "      <th></th>\n",
       "      <th></th>\n",
       "      <th></th>\n",
       "      <th></th>\n",
       "    </tr>\n",
       "  </thead>\n",
       "  <tbody>\n",
       "    <tr>\n",
       "      <th rowspan=\"4\" valign=\"top\">Female</th>\n",
       "      <th>Normal</th>\n",
       "      <td>64</td>\n",
       "      <td>64</td>\n",
       "      <td>64</td>\n",
       "      <td>64</td>\n",
       "      <td>64</td>\n",
       "      <td>64</td>\n",
       "      <td>64</td>\n",
       "      <td>64</td>\n",
       "      <td>64</td>\n",
       "      <td>64</td>\n",
       "      <td>3</td>\n",
       "    </tr>\n",
       "    <tr>\n",
       "      <th>Normal Weight</th>\n",
       "      <td>14</td>\n",
       "      <td>14</td>\n",
       "      <td>14</td>\n",
       "      <td>14</td>\n",
       "      <td>14</td>\n",
       "      <td>14</td>\n",
       "      <td>14</td>\n",
       "      <td>14</td>\n",
       "      <td>14</td>\n",
       "      <td>14</td>\n",
       "      <td>4</td>\n",
       "    </tr>\n",
       "    <tr>\n",
       "      <th>Obese</th>\n",
       "      <td>1</td>\n",
       "      <td>1</td>\n",
       "      <td>1</td>\n",
       "      <td>1</td>\n",
       "      <td>1</td>\n",
       "      <td>1</td>\n",
       "      <td>1</td>\n",
       "      <td>1</td>\n",
       "      <td>1</td>\n",
       "      <td>1</td>\n",
       "      <td>1</td>\n",
       "    </tr>\n",
       "    <tr>\n",
       "      <th>Overweight</th>\n",
       "      <td>106</td>\n",
       "      <td>106</td>\n",
       "      <td>106</td>\n",
       "      <td>106</td>\n",
       "      <td>106</td>\n",
       "      <td>106</td>\n",
       "      <td>106</td>\n",
       "      <td>106</td>\n",
       "      <td>106</td>\n",
       "      <td>106</td>\n",
       "      <td>95</td>\n",
       "    </tr>\n",
       "    <tr>\n",
       "      <th rowspan=\"4\" valign=\"top\">Male</th>\n",
       "      <th>Normal</th>\n",
       "      <td>131</td>\n",
       "      <td>131</td>\n",
       "      <td>131</td>\n",
       "      <td>131</td>\n",
       "      <td>131</td>\n",
       "      <td>131</td>\n",
       "      <td>131</td>\n",
       "      <td>131</td>\n",
       "      <td>131</td>\n",
       "      <td>131</td>\n",
       "      <td>9</td>\n",
       "    </tr>\n",
       "    <tr>\n",
       "      <th>Normal Weight</th>\n",
       "      <td>7</td>\n",
       "      <td>7</td>\n",
       "      <td>7</td>\n",
       "      <td>7</td>\n",
       "      <td>7</td>\n",
       "      <td>7</td>\n",
       "      <td>7</td>\n",
       "      <td>7</td>\n",
       "      <td>7</td>\n",
       "      <td>7</td>\n",
       "      <td>0</td>\n",
       "    </tr>\n",
       "    <tr>\n",
       "      <th>Obese</th>\n",
       "      <td>9</td>\n",
       "      <td>9</td>\n",
       "      <td>9</td>\n",
       "      <td>9</td>\n",
       "      <td>9</td>\n",
       "      <td>9</td>\n",
       "      <td>9</td>\n",
       "      <td>9</td>\n",
       "      <td>9</td>\n",
       "      <td>9</td>\n",
       "      <td>9</td>\n",
       "    </tr>\n",
       "    <tr>\n",
       "      <th>Overweight</th>\n",
       "      <td>42</td>\n",
       "      <td>42</td>\n",
       "      <td>42</td>\n",
       "      <td>42</td>\n",
       "      <td>42</td>\n",
       "      <td>42</td>\n",
       "      <td>42</td>\n",
       "      <td>42</td>\n",
       "      <td>42</td>\n",
       "      <td>42</td>\n",
       "      <td>34</td>\n",
       "    </tr>\n",
       "  </tbody>\n",
       "</table>\n",
       "</div>"
      ],
      "text/plain": [
       "                      Person ID  Age  Occupation  Sleep Duration  \\\n",
       "Gender BMI Category                                                \n",
       "Female Normal                64   64          64              64   \n",
       "       Normal Weight         14   14          14              14   \n",
       "       Obese                  1    1           1               1   \n",
       "       Overweight           106  106         106             106   \n",
       "Male   Normal               131  131         131             131   \n",
       "       Normal Weight          7    7           7               7   \n",
       "       Obese                  9    9           9               9   \n",
       "       Overweight            42   42          42              42   \n",
       "\n",
       "                      Quality of Sleep  Physical Activity Level  Stress Level  \\\n",
       "Gender BMI Category                                                             \n",
       "Female Normal                       64                       64            64   \n",
       "       Normal Weight                14                       14            14   \n",
       "       Obese                         1                        1             1   \n",
       "       Overweight                  106                      106           106   \n",
       "Male   Normal                      131                      131           131   \n",
       "       Normal Weight                 7                        7             7   \n",
       "       Obese                         9                        9             9   \n",
       "       Overweight                   42                       42            42   \n",
       "\n",
       "                      Blood Pressure  Heart Rate  Daily Steps  Sleep Disorder  \n",
       "Gender BMI Category                                                            \n",
       "Female Normal                     64          64           64               3  \n",
       "       Normal Weight              14          14           14               4  \n",
       "       Obese                       1           1            1               1  \n",
       "       Overweight                106         106          106              95  \n",
       "Male   Normal                    131         131          131               9  \n",
       "       Normal Weight               7           7            7               0  \n",
       "       Obese                       9           9            9               9  \n",
       "       Overweight                 42          42           42              34  "
      ]
     },
     "execution_count": 50,
     "metadata": {},
     "output_type": "execute_result"
    }
   ],
   "source": [
    "result = data.groupby(['Gender','BMI Category']).count()\n",
    "result"
   ]
  },
  {
   "cell_type": "markdown",
   "metadata": {},
   "source": [
    "Using the Agg Function in Pandas"
   ]
  },
  {
   "cell_type": "code",
   "execution_count": 51,
   "metadata": {},
   "outputs": [
    {
     "data": {
      "text/html": [
       "<div>\n",
       "<style scoped>\n",
       "    .dataframe tbody tr th:only-of-type {\n",
       "        vertical-align: middle;\n",
       "    }\n",
       "\n",
       "    .dataframe tbody tr th {\n",
       "        vertical-align: top;\n",
       "    }\n",
       "\n",
       "    .dataframe thead tr th {\n",
       "        text-align: left;\n",
       "    }\n",
       "\n",
       "    .dataframe thead tr:last-of-type th {\n",
       "        text-align: right;\n",
       "    }\n",
       "</style>\n",
       "<table border=\"1\" class=\"dataframe\">\n",
       "  <thead>\n",
       "    <tr>\n",
       "      <th></th>\n",
       "      <th colspan=\"2\" halign=\"left\">Sleep Duration</th>\n",
       "      <th colspan=\"2\" halign=\"left\">Quality of Sleep</th>\n",
       "      <th colspan=\"2\" halign=\"left\">Physical Activity Level</th>\n",
       "    </tr>\n",
       "    <tr>\n",
       "      <th></th>\n",
       "      <th>mean</th>\n",
       "      <th>median</th>\n",
       "      <th>mean</th>\n",
       "      <th>median</th>\n",
       "      <th>mean</th>\n",
       "      <th>median</th>\n",
       "    </tr>\n",
       "    <tr>\n",
       "      <th>Gender</th>\n",
       "      <th></th>\n",
       "      <th></th>\n",
       "      <th></th>\n",
       "      <th></th>\n",
       "      <th></th>\n",
       "      <th></th>\n",
       "    </tr>\n",
       "  </thead>\n",
       "  <tbody>\n",
       "    <tr>\n",
       "      <th>Female</th>\n",
       "      <td>7.229730</td>\n",
       "      <td>7.2</td>\n",
       "      <td>7.664865</td>\n",
       "      <td>8.0</td>\n",
       "      <td>59.140541</td>\n",
       "      <td>60.0</td>\n",
       "    </tr>\n",
       "    <tr>\n",
       "      <th>Male</th>\n",
       "      <td>7.036508</td>\n",
       "      <td>7.2</td>\n",
       "      <td>6.968254</td>\n",
       "      <td>7.0</td>\n",
       "      <td>59.201058</td>\n",
       "      <td>60.0</td>\n",
       "    </tr>\n",
       "  </tbody>\n",
       "</table>\n",
       "</div>"
      ],
      "text/plain": [
       "       Sleep Duration        Quality of Sleep        Physical Activity Level  \\\n",
       "                 mean median             mean median                    mean   \n",
       "Gender                                                                         \n",
       "Female       7.229730    7.2         7.664865    8.0               59.140541   \n",
       "Male         7.036508    7.2         6.968254    7.0               59.201058   \n",
       "\n",
       "               \n",
       "       median  \n",
       "Gender         \n",
       "Female   60.0  \n",
       "Male     60.0  "
      ]
     },
     "execution_count": 51,
     "metadata": {},
     "output_type": "execute_result"
    }
   ],
   "source": [
    "data.groupby(['Gender']).agg(\n",
    "    {\n",
    "        'Sleep Duration':['mean', 'median'],\n",
    "        'Quality of Sleep':['mean', 'median'],\n",
    "        'Physical Activity Level':['mean', 'median'],\n",
    "    })"
   ]
  },
  {
   "cell_type": "code",
   "execution_count": 55,
   "metadata": {},
   "outputs": [
    {
     "data": {
      "text/html": [
       "<div>\n",
       "<style scoped>\n",
       "    .dataframe tbody tr th:only-of-type {\n",
       "        vertical-align: middle;\n",
       "    }\n",
       "\n",
       "    .dataframe tbody tr th {\n",
       "        vertical-align: top;\n",
       "    }\n",
       "\n",
       "    .dataframe thead tr th {\n",
       "        text-align: left;\n",
       "    }\n",
       "\n",
       "    .dataframe thead tr:last-of-type th {\n",
       "        text-align: right;\n",
       "    }\n",
       "</style>\n",
       "<table border=\"1\" class=\"dataframe\">\n",
       "  <thead>\n",
       "    <tr>\n",
       "      <th></th>\n",
       "      <th colspan=\"2\" halign=\"left\">Age</th>\n",
       "      <th colspan=\"2\" halign=\"left\">Stress Level</th>\n",
       "      <th colspan=\"2\" halign=\"left\">Sleep Duration</th>\n",
       "    </tr>\n",
       "    <tr>\n",
       "      <th></th>\n",
       "      <th>count</th>\n",
       "      <th>median</th>\n",
       "      <th>count</th>\n",
       "      <th>median</th>\n",
       "      <th>count</th>\n",
       "      <th>median</th>\n",
       "    </tr>\n",
       "    <tr>\n",
       "      <th>Sleep Disorder</th>\n",
       "      <th></th>\n",
       "      <th></th>\n",
       "      <th></th>\n",
       "      <th></th>\n",
       "      <th></th>\n",
       "      <th></th>\n",
       "    </tr>\n",
       "  </thead>\n",
       "  <tbody>\n",
       "    <tr>\n",
       "      <th>Insomnia</th>\n",
       "      <td>77</td>\n",
       "      <td>44.0</td>\n",
       "      <td>77</td>\n",
       "      <td>7.0</td>\n",
       "      <td>77</td>\n",
       "      <td>6.5</td>\n",
       "    </tr>\n",
       "    <tr>\n",
       "      <th>Sleep Apnea</th>\n",
       "      <td>78</td>\n",
       "      <td>50.0</td>\n",
       "      <td>78</td>\n",
       "      <td>7.0</td>\n",
       "      <td>78</td>\n",
       "      <td>6.8</td>\n",
       "    </tr>\n",
       "  </tbody>\n",
       "</table>\n",
       "</div>"
      ],
      "text/plain": [
       "                 Age        Stress Level        Sleep Duration       \n",
       "               count median        count median          count median\n",
       "Sleep Disorder                                                       \n",
       "Insomnia          77   44.0           77    7.0             77    6.5\n",
       "Sleep Apnea       78   50.0           78    7.0             78    6.8"
      ]
     },
     "execution_count": 55,
     "metadata": {},
     "output_type": "execute_result"
    }
   ],
   "source": [
    "data.groupby(['Sleep Disorder']).agg({\n",
    "    'Age':['count', 'median'],\n",
    "    'Stress Level':['count', 'median'],\n",
    "    'Sleep Duration':['count', 'median'],\n",
    "})"
   ]
  },
  {
   "cell_type": "code",
   "execution_count": 61,
   "metadata": {},
   "outputs": [
    {
     "data": {
      "text/html": [
       "<div>\n",
       "<style scoped>\n",
       "    .dataframe tbody tr th:only-of-type {\n",
       "        vertical-align: middle;\n",
       "    }\n",
       "\n",
       "    .dataframe tbody tr th {\n",
       "        vertical-align: top;\n",
       "    }\n",
       "\n",
       "    .dataframe thead tr th {\n",
       "        text-align: left;\n",
       "    }\n",
       "\n",
       "    .dataframe thead tr:last-of-type th {\n",
       "        text-align: right;\n",
       "    }\n",
       "</style>\n",
       "<table border=\"1\" class=\"dataframe\">\n",
       "  <thead>\n",
       "    <tr>\n",
       "      <th></th>\n",
       "      <th></th>\n",
       "      <th colspan=\"2\" halign=\"left\">Sleep Duration</th>\n",
       "      <th colspan=\"2\" halign=\"left\">Quality of Sleep</th>\n",
       "      <th colspan=\"2\" halign=\"left\">Stress Level</th>\n",
       "    </tr>\n",
       "    <tr>\n",
       "      <th></th>\n",
       "      <th></th>\n",
       "      <th>mean</th>\n",
       "      <th>median</th>\n",
       "      <th>mean</th>\n",
       "      <th>median</th>\n",
       "      <th>mean</th>\n",
       "      <th>median</th>\n",
       "    </tr>\n",
       "    <tr>\n",
       "      <th>Gender</th>\n",
       "      <th>BMI Category</th>\n",
       "      <th></th>\n",
       "      <th></th>\n",
       "      <th></th>\n",
       "      <th></th>\n",
       "      <th></th>\n",
       "      <th></th>\n",
       "    </tr>\n",
       "  </thead>\n",
       "  <tbody>\n",
       "    <tr>\n",
       "      <th rowspan=\"4\" valign=\"top\">Female</th>\n",
       "      <th>Normal</th>\n",
       "      <td>7.793750</td>\n",
       "      <td>7.75</td>\n",
       "      <td>8.500000</td>\n",
       "      <td>8.5</td>\n",
       "      <td>3.500000</td>\n",
       "      <td>3.5</td>\n",
       "    </tr>\n",
       "    <tr>\n",
       "      <th>Normal Weight</th>\n",
       "      <td>7.285714</td>\n",
       "      <td>7.20</td>\n",
       "      <td>7.285714</td>\n",
       "      <td>8.0</td>\n",
       "      <td>5.142857</td>\n",
       "      <td>6.0</td>\n",
       "    </tr>\n",
       "    <tr>\n",
       "      <th>Obese</th>\n",
       "      <td>7.400000</td>\n",
       "      <td>7.40</td>\n",
       "      <td>7.000000</td>\n",
       "      <td>7.0</td>\n",
       "      <td>5.000000</td>\n",
       "      <td>5.0</td>\n",
       "    </tr>\n",
       "    <tr>\n",
       "      <th>Overweight</th>\n",
       "      <td>6.880189</td>\n",
       "      <td>6.60</td>\n",
       "      <td>7.216981</td>\n",
       "      <td>7.0</td>\n",
       "      <td>5.320755</td>\n",
       "      <td>4.0</td>\n",
       "    </tr>\n",
       "    <tr>\n",
       "      <th rowspan=\"4\" valign=\"top\">Male</th>\n",
       "      <th>Normal</th>\n",
       "      <td>7.198473</td>\n",
       "      <td>7.50</td>\n",
       "      <td>7.251908</td>\n",
       "      <td>8.0</td>\n",
       "      <td>5.923664</td>\n",
       "      <td>5.0</td>\n",
       "    </tr>\n",
       "    <tr>\n",
       "      <th>Normal Weight</th>\n",
       "      <td>7.428571</td>\n",
       "      <td>7.50</td>\n",
       "      <td>7.714286</td>\n",
       "      <td>8.0</td>\n",
       "      <td>5.285714</td>\n",
       "      <td>5.0</td>\n",
       "    </tr>\n",
       "    <tr>\n",
       "      <th>Obese</th>\n",
       "      <td>6.911111</td>\n",
       "      <td>7.30</td>\n",
       "      <td>6.333333</td>\n",
       "      <td>7.0</td>\n",
       "      <td>5.777778</td>\n",
       "      <td>5.0</td>\n",
       "    </tr>\n",
       "    <tr>\n",
       "      <th>Overweight</th>\n",
       "      <td>6.492857</td>\n",
       "      <td>6.50</td>\n",
       "      <td>6.095238</td>\n",
       "      <td>6.0</td>\n",
       "      <td>6.761905</td>\n",
       "      <td>7.0</td>\n",
       "    </tr>\n",
       "  </tbody>\n",
       "</table>\n",
       "</div>"
      ],
      "text/plain": [
       "                     Sleep Duration        Quality of Sleep         \\\n",
       "                               mean median             mean median   \n",
       "Gender BMI Category                                                  \n",
       "Female Normal              7.793750   7.75         8.500000    8.5   \n",
       "       Normal Weight       7.285714   7.20         7.285714    8.0   \n",
       "       Obese               7.400000   7.40         7.000000    7.0   \n",
       "       Overweight          6.880189   6.60         7.216981    7.0   \n",
       "Male   Normal              7.198473   7.50         7.251908    8.0   \n",
       "       Normal Weight       7.428571   7.50         7.714286    8.0   \n",
       "       Obese               6.911111   7.30         6.333333    7.0   \n",
       "       Overweight          6.492857   6.50         6.095238    6.0   \n",
       "\n",
       "                     Stress Level         \n",
       "                             mean median  \n",
       "Gender BMI Category                       \n",
       "Female Normal            3.500000    3.5  \n",
       "       Normal Weight     5.142857    6.0  \n",
       "       Obese             5.000000    5.0  \n",
       "       Overweight        5.320755    4.0  \n",
       "Male   Normal            5.923664    5.0  \n",
       "       Normal Weight     5.285714    5.0  \n",
       "       Obese             5.777778    5.0  \n",
       "       Overweight        6.761905    7.0  "
      ]
     },
     "execution_count": 61,
     "metadata": {},
     "output_type": "execute_result"
    }
   ],
   "source": [
    "data.groupby(['Gender','BMI Category']).agg({\n",
    "    \n",
    "    'Sleep Duration':['mean','median'],\n",
    "    'Quality of Sleep':['mean','median'],\n",
    "    'Stress Level':['mean','median'],\n",
    "})"
   ]
  },
  {
   "cell_type": "markdown",
   "metadata": {},
   "source": [
    "Time to make Graphs and Charts"
   ]
  },
  {
   "cell_type": "code",
   "execution_count": 62,
   "metadata": {},
   "outputs": [],
   "source": [
    "import matplotlib.pyplot as plt\n",
    "import seaborn as sns"
   ]
  },
  {
   "cell_type": "code",
   "execution_count": 68,
   "metadata": {},
   "outputs": [
    {
     "data": {
      "text/plain": [
       "4862"
      ]
     },
     "execution_count": 68,
     "metadata": {},
     "output_type": "execute_result"
    }
   ],
   "source": [
    "data.size"
   ]
  },
  {
   "cell_type": "code",
   "execution_count": 69,
   "metadata": {},
   "outputs": [
    {
     "data": {
      "text/plain": [
       "(374, 13)"
      ]
     },
     "execution_count": 69,
     "metadata": {},
     "output_type": "execute_result"
    }
   ],
   "source": [
    "data.shape"
   ]
  },
  {
   "cell_type": "code",
   "execution_count": 70,
   "metadata": {},
   "outputs": [
    {
     "name": "stdout",
     "output_type": "stream",
     "text": [
      "<class 'pandas.core.frame.DataFrame'>\n",
      "RangeIndex: 374 entries, 0 to 373\n",
      "Data columns (total 13 columns):\n",
      " #   Column                   Non-Null Count  Dtype  \n",
      "---  ------                   --------------  -----  \n",
      " 0   Person ID                374 non-null    int64  \n",
      " 1   Gender                   374 non-null    object \n",
      " 2   Age                      374 non-null    int64  \n",
      " 3   Occupation               374 non-null    object \n",
      " 4   Sleep Duration           374 non-null    float64\n",
      " 5   Quality of Sleep         374 non-null    int64  \n",
      " 6   Physical Activity Level  374 non-null    int64  \n",
      " 7   Stress Level             374 non-null    int64  \n",
      " 8   BMI Category             374 non-null    object \n",
      " 9   Blood Pressure           374 non-null    object \n",
      " 10  Heart Rate               374 non-null    int64  \n",
      " 11  Daily Steps              374 non-null    int64  \n",
      " 12  Sleep Disorder           155 non-null    object \n",
      "dtypes: float64(1), int64(7), object(5)\n",
      "memory usage: 38.1+ KB\n"
     ]
    }
   ],
   "source": [
    "data.info()"
   ]
  },
  {
   "cell_type": "code",
   "execution_count": 90,
   "metadata": {},
   "outputs": [
    {
     "data": {
      "image/png": "[encoded data removed]",
      "text/plain": [
       "<Figure size 1000x700 with 1 Axes>"
      ]
     },
     "metadata": {},
     "output_type": "display_data"
    }
   ],
   "source": [
    "plt.figure(figsize=(10,7))\n",
    "sns.barplot(x=data['Sleep Duration'], y=data['Quality of Sleep'], palette=('mako'))\n",
    "plt.title('Sleep Duration vs Quaility of Sleep')\n",
    "plt.show()"
   ]
  },
  {
   "cell_type": "code",
   "execution_count": 114,
   "metadata": {},
   "outputs": [
    {
     "data": {
      "text/plain": [
       "<AxesSubplot: xlabel='Daily Steps', ylabel='Count'>"
      ]
     },
     "execution_count": 114,
     "metadata": {},
     "output_type": "execute_result"
    },
    {
     "data": {
      "image/png": "[encoded data removed]",
      "text/plain": [
       "<Figure size 1000x700 with 1 Axes>"
      ]
     },
     "metadata": {},
     "output_type": "display_data"
    }
   ],
   "source": [
    "plt.figure(figsize=(10,7))\n",
    "sns.histplot(data['Daily Steps'], kde=True, color=('blue'))"
   ]
  },
  {
   "cell_type": "code",
   "execution_count": 117,
   "metadata": {},
   "outputs": [
    {
     "data": {
      "text/plain": [
       "<AxesSubplot: xlabel='Stress Level', ylabel='Count'>"
      ]
     },
     "execution_count": 117,
     "metadata": {},
     "output_type": "execute_result"
    },
    {
     "data": {
      "image/png": "[encoded data removed]",
      "text/plain": [
       "<Figure size 1000x700 with 1 Axes>"
      ]
     },
     "metadata": {},
     "output_type": "display_data"
    }
   ],
   "source": [
    "nurse = data[data['Occupation'] == 'Nurse']\n",
    "\n",
    "plt.figure(figsize=(10,7))\n",
    "sns.histplot(data=nurse['Stress Level'], color='#c8bbf5')"
   ]
  },
  {
   "cell_type": "code",
   "execution_count": 119,
   "metadata": {},
   "outputs": [
    {
     "data": {
      "text/plain": [
       "<AxesSubplot: xlabel='Stress Level', ylabel='Count'>"
      ]
     },
     "execution_count": 119,
     "metadata": {},
     "output_type": "execute_result"
    },
    {
     "data": {
      "image/png": "[encoded data removed]",
      "text/plain": [
       "<Figure size 1000x700 with 1 Axes>"
      ]
     },
     "metadata": {},
     "output_type": "display_data"
    }
   ],
   "source": [
    "plt.figure(figsize=(10,7))\n",
    "sns.histplot(data=data['Stress Level'], color='#1798ff')"
   ]
  },
  {
   "cell_type": "code",
   "execution_count": 134,
   "metadata": {},
   "outputs": [
    {
     "data": {
      "text/plain": [
       "<AxesSubplot: xlabel='Sleep Disorder', ylabel='Count'>"
      ]
     },
     "execution_count": 134,
     "metadata": {},
     "output_type": "execute_result"
    },
    {
     "data": {
      "image/png": "[encoded data removed]",
      "text/plain": [
       "<Figure size 1000x700 with 1 Axes>"
      ]
     },
     "metadata": {},
     "output_type": "display_data"
    }
   ],
   "source": [
    "plt.figure(figsize=(10,7))\n",
    "sns.histplot(data=data, x='Sleep Disorder', hue='Gender', multiple='dodge', shrink=.5, palette={'Male':'blue', 'Female':'red'})"
   ]
  },
  {
   "cell_type": "code",
   "execution_count": 150,
   "metadata": {},
   "outputs": [
    {
     "data": {
      "text/plain": [
       "([<matplotlib.patches.Wedge at 0x1e117aef3d0>,\n",
       "  <matplotlib.patches.Wedge at 0x1e117ac45d0>],\n",
       " [Text(-0.06377235477864826, 1.098149847136531, 'Male'),\n",
       "  Text(0.0637722519624387, -1.098149853107325, 'Female')])"
      ]
     },
     "execution_count": 150,
     "metadata": {},
     "output_type": "execute_result"
    },
    {
     "data": {
      "image/png": "[encoded data removed]",
      "text/plain": [
       "<Figure size 1000x700 with 1 Axes>"
      ]
     },
     "metadata": {},
     "output_type": "display_data"
    }
   ],
   "source": [
    "fig = plt.figure(figsize=(10,7))\n",
    "plt.pie(data.groupby('Gender')['Quality of Sleep'].sum(), labels=['Male', 'Female'])"
   ]
  },
  {
   "cell_type": "markdown",
   "metadata": {},
   "source": [
    "Trouble in Changing Colors"
   ]
  },
  {
   "cell_type": "code",
   "execution_count": 159,
   "metadata": {},
   "outputs": [
    {
     "data": {
      "text/plain": [
       "Text(0.5, 1.0, 'Daily Steps vs Heart Rate')"
      ]
     },
     "execution_count": 159,
     "metadata": {},
     "output_type": "execute_result"
    },
    {
     "data": {
      "image/png": "[encoded data removed]",
      "text/plain": [
       "<Figure size 640x480 with 1 Axes>"
      ]
     },
     "metadata": {},
     "output_type": "display_data"
    }
   ],
   "source": [
    "sns.scatterplot(x=data['Daily Steps'], y=data['Heart Rate'], hue=data['BMI Category'], s=75, palette=('magma'))\n",
    "plt.title('Daily Steps vs Heart Rate')"
   ]
  },
  {
   "cell_type": "markdown",
   "metadata": {},
   "source": [
    "Statsical Modeling"
   ]
  },
  {
   "cell_type": "code",
   "execution_count": 3,
   "metadata": {},
   "outputs": [
    {
     "name": "stdout",
     "output_type": "stream",
     "text": [
      "Collecting scipy\n",
      "  Downloading scipy-1.11.1-cp311-cp311-win_amd64.whl (44.0 MB)\n",
      "     ---------------------------------------- 0.0/44.0 MB ? eta -:--:--\n",
      "     ---------------------------------------- 0.1/44.0 MB 4.3 MB/s eta 0:00:11\n",
      "     ---------------------------------------- 0.5/44.0 MB 5.6 MB/s eta 0:00:08\n",
      "     - -------------------------------------- 1.1/44.0 MB 9.1 MB/s eta 0:00:05\n",
      "     - -------------------------------------- 1.8/44.0 MB 10.5 MB/s eta 0:00:05\n",
      "     -- ------------------------------------- 2.4/44.0 MB 11.1 MB/s eta 0:00:04\n",
      "     -- ------------------------------------- 3.1/44.0 MB 11.8 MB/s eta 0:00:04\n",
      "     --- ------------------------------------ 3.8/44.0 MB 12.1 MB/s eta 0:00:04\n",
      "     ---- ----------------------------------- 4.5/44.0 MB 12.6 MB/s eta 0:00:04\n",
      "     ---- ----------------------------------- 5.2/44.0 MB 12.7 MB/s eta 0:00:04\n",
      "     ----- ---------------------------------- 5.8/44.0 MB 12.9 MB/s eta 0:00:03\n",
      "     ----- ---------------------------------- 6.5/44.0 MB 13.0 MB/s eta 0:00:03\n",
      "     ------ --------------------------------- 7.2/44.0 MB 13.1 MB/s eta 0:00:03\n",
      "     ------- -------------------------------- 7.8/44.0 MB 13.2 MB/s eta 0:00:03\n",
      "     ------- -------------------------------- 8.5/44.0 MB 13.2 MB/s eta 0:00:03\n",
      "     -------- ------------------------------- 9.2/44.0 MB 13.3 MB/s eta 0:00:03\n",
      "     -------- ------------------------------- 9.8/44.0 MB 13.4 MB/s eta 0:00:03\n",
      "     --------- ----------------------------- 10.5/44.0 MB 14.2 MB/s eta 0:00:03\n",
      "     --------- ----------------------------- 11.2/44.0 MB 14.2 MB/s eta 0:00:03\n",
      "     ---------- ---------------------------- 11.8/44.0 MB 14.2 MB/s eta 0:00:03\n",
      "     ----------- --------------------------- 12.5/44.0 MB 14.2 MB/s eta 0:00:03\n",
      "     ----------- --------------------------- 13.2/44.0 MB 14.2 MB/s eta 0:00:03\n",
      "     ------------ -------------------------- 13.9/44.0 MB 14.2 MB/s eta 0:00:03\n",
      "     ------------ -------------------------- 14.5/44.0 MB 14.2 MB/s eta 0:00:03\n",
      "     ------------- ------------------------- 15.2/44.0 MB 14.2 MB/s eta 0:00:03\n",
      "     -------------- ------------------------ 15.9/44.0 MB 14.2 MB/s eta 0:00:02\n",
      "     -------------- ------------------------ 16.5/44.0 MB 14.2 MB/s eta 0:00:02\n",
      "     --------------- ----------------------- 17.2/44.0 MB 14.2 MB/s eta 0:00:02\n",
      "     --------------- ----------------------- 17.9/44.0 MB 14.2 MB/s eta 0:00:02\n",
      "     ---------------- ---------------------- 18.6/44.0 MB 14.2 MB/s eta 0:00:02\n",
      "     ----------------- --------------------- 19.3/44.0 MB 14.2 MB/s eta 0:00:02\n",
      "     ----------------- --------------------- 20.0/44.0 MB 14.2 MB/s eta 0:00:02\n",
      "     ------------------ -------------------- 20.6/44.0 MB 14.2 MB/s eta 0:00:02\n",
      "     ------------------ -------------------- 21.3/44.0 MB 14.2 MB/s eta 0:00:02\n",
      "     ------------------- ------------------- 21.9/44.0 MB 14.2 MB/s eta 0:00:02\n",
      "     -------------------- ------------------ 22.6/44.0 MB 14.2 MB/s eta 0:00:02\n",
      "     -------------------- ------------------ 23.3/44.0 MB 14.2 MB/s eta 0:00:02\n",
      "     --------------------- ----------------- 23.9/44.0 MB 14.6 MB/s eta 0:00:02\n",
      "     --------------------- ----------------- 24.6/44.0 MB 14.6 MB/s eta 0:00:02\n",
      "     ---------------------- ---------------- 25.3/44.0 MB 14.2 MB/s eta 0:00:02\n",
      "     ----------------------- --------------- 25.9/44.0 MB 14.2 MB/s eta 0:00:02\n",
      "     ----------------------- --------------- 26.6/44.0 MB 14.6 MB/s eta 0:00:02\n",
      "     ------------------------ -------------- 27.3/44.0 MB 14.5 MB/s eta 0:00:02\n",
      "     ------------------------ -------------- 27.9/44.0 MB 14.6 MB/s eta 0:00:02\n",
      "     ------------------------- ------------- 28.6/44.0 MB 14.6 MB/s eta 0:00:02\n",
      "     ------------------------- ------------- 29.3/44.0 MB 14.6 MB/s eta 0:00:02\n",
      "     -------------------------- ------------ 30.0/44.0 MB 14.6 MB/s eta 0:00:01\n",
      "     --------------------------- ----------- 30.6/44.0 MB 14.6 MB/s eta 0:00:01\n",
      "     --------------------------- ----------- 31.3/44.0 MB 14.6 MB/s eta 0:00:01\n",
      "     ---------------------------- ---------- 31.9/44.0 MB 14.6 MB/s eta 0:00:01\n",
      "     ---------------------------- ---------- 32.6/44.0 MB 14.5 MB/s eta 0:00:01\n",
      "     ----------------------------- --------- 33.3/44.0 MB 14.6 MB/s eta 0:00:01\n",
      "     ------------------------------ -------- 34.0/44.0 MB 14.6 MB/s eta 0:00:01\n",
      "     ------------------------------ -------- 34.7/44.0 MB 14.6 MB/s eta 0:00:01\n",
      "     ------------------------------- ------- 35.3/44.0 MB 14.6 MB/s eta 0:00:01\n",
      "     ------------------------------- ------- 36.0/44.0 MB 14.6 MB/s eta 0:00:01\n",
      "     -------------------------------- ------ 36.7/44.0 MB 14.6 MB/s eta 0:00:01\n",
      "     --------------------------------- ----- 37.4/44.0 MB 14.6 MB/s eta 0:00:01\n",
      "     --------------------------------- ----- 37.7/44.0 MB 14.6 MB/s eta 0:00:01\n",
      "     --------------------------------- ----- 37.7/44.0 MB 14.6 MB/s eta 0:00:01\n",
      "     --------------------------------- ----- 37.7/44.0 MB 14.6 MB/s eta 0:00:01\n",
      "     --------------------------------- ----- 37.7/44.0 MB 14.6 MB/s eta 0:00:01\n",
      "     ------------------------------------ -- 40.7/44.0 MB 14.6 MB/s eta 0:00:01\n",
      "     ------------------------------------ -- 41.3/44.0 MB 14.6 MB/s eta 0:00:01\n",
      "     ------------------------------------- - 42.0/44.0 MB 14.2 MB/s eta 0:00:01\n",
      "     ------------------------------------- - 42.7/44.0 MB 14.6 MB/s eta 0:00:01\n",
      "     --------------------------------------  43.3/44.0 MB 14.2 MB/s eta 0:00:01\n",
      "     --------------------------------------  44.0/44.0 MB 14.2 MB/s eta 0:00:01\n",
      "     --------------------------------------  44.0/44.0 MB 14.2 MB/s eta 0:00:01\n",
      "     --------------------------------------  44.0/44.0 MB 14.2 MB/s eta 0:00:01\n",
      "     --------------------------------------  44.0/44.0 MB 14.2 MB/s eta 0:00:01\n",
      "     --------------------------------------  44.0/44.0 MB 14.2 MB/s eta 0:00:01\n",
      "     --------------------------------------  44.0/44.0 MB 14.2 MB/s eta 0:00:01\n",
      "     --------------------------------------  44.0/44.0 MB 14.2 MB/s eta 0:00:01\n",
      "     ---------------------------------------- 44.0/44.0 MB 9.9 MB/s eta 0:00:00\n",
      "Requirement already satisfied: numpy<1.28.0,>=1.21.6 in c:\\users\\ahmed rehman\\appdata\\local\\programs\\python\\python311\\lib\\site-packages (from scipy) (1.24.1)\n",
      "Installing collected packages: scipy\n",
      "Successfully installed scipy-1.11.1\n"
     ]
    },
    {
     "name": "stderr",
     "output_type": "stream",
     "text": [
      "\n",
      "[notice] A new release of pip is available: 23.0 -> 23.2.1\n",
      "[notice] To update, run: python.exe -m pip install --upgrade pip\n"
     ]
    }
   ],
   "source": [
    "!pip install scipy"
   ]
  },
  {
   "cell_type": "code",
   "execution_count": 4,
   "metadata": {},
   "outputs": [],
   "source": [
    "import scipy as scip\n",
    "from scipy import stats"
   ]
  },
  {
   "cell_type": "code",
   "execution_count": 8,
   "metadata": {},
   "outputs": [],
   "source": [
    "import pandas as pd\n",
    "import numpy as np\n",
    "data = pd.read_csv(r'C:\\Users\\Ahmed Rehman\\Downloads\\Sleep_health_and_lifestyle_dataset.csv')"
   ]
  },
  {
   "cell_type": "code",
   "execution_count": 10,
   "metadata": {},
   "outputs": [
    {
     "data": {
      "text/plain": [
       "Person ID                    0\n",
       "Gender                       0\n",
       "Age                          0\n",
       "Occupation                   0\n",
       "Sleep Duration               0\n",
       "Quality of Sleep             0\n",
       "Physical Activity Level      0\n",
       "Stress Level                 0\n",
       "BMI Category                 0\n",
       "Blood Pressure               0\n",
       "Heart Rate                   0\n",
       "Daily Steps                  0\n",
       "Sleep Disorder             219\n",
       "dtype: int64"
      ]
     },
     "execution_count": 10,
     "metadata": {},
     "output_type": "execute_result"
    }
   ],
   "source": [
    "data.isnull().sum()"
   ]
  }
 ],
 "metadata": {
  "kernelspec": {
   "display_name": "Python 3",
   "language": "python",
   "name": "python3"
  },
  "language_info": {
   "codemirror_mode": {
    "name": "ipython",
    "version": 3
   },
   "file_extension": ".py",
   "mimetype": "text/x-python",
   "name": "python",
   "nbconvert_exporter": "python",
   "pygments_lexer": "ipython3",
   "version": "3.11.1"
  },
  "orig_nbformat": 4
 },
 "nbformat": 4,
 "nbformat_minor": 2
}
