{
 "cells": [
  {
   "cell_type": "code",
   "execution_count": 1,
   "metadata": {},
   "outputs": [],
   "source": [
    "import pandas as pd\n",
    "import numpy as np"
   ]
  },
  {
   "cell_type": "code",
   "execution_count": 34,
   "metadata": {},
   "outputs": [],
   "source": [
    "data = pd.read_csv(r'C:\\Users\\Ahmed Rehman\\Downloads\\Sleep_health_and_lifestyle_dataset.csv')"
   ]
  },
  {
   "cell_type": "code",
   "execution_count": 21,
   "metadata": {},
   "outputs": [],
   "source": [
    "import sklearn \n",
    "from sklearn import linear_model\n",
    "from sklearn.utils import shuffle"
   ]
  },
  {
   "cell_type": "code",
   "execution_count": 35,
   "metadata": {},
   "outputs": [
    {
     "data": {
      "text/html": [
       "<div>\n",
       "<style scoped>\n",
       "    .dataframe tbody tr th:only-of-type {\n",
       "        vertical-align: middle;\n",
       "    }\n",
       "\n",
       "    .dataframe tbody tr th {\n",
       "        vertical-align: top;\n",
       "    }\n",
       "\n",
       "    .dataframe thead th {\n",
       "        text-align: right;\n",
       "    }\n",
       "</style>\n",
       "<table border=\"1\" class=\"dataframe\">\n",
       "  <thead>\n",
       "    <tr style=\"text-align: right;\">\n",
       "      <th></th>\n",
       "      <th>Person ID</th>\n",
       "      <th>Age</th>\n",
       "      <th>Sleep Duration</th>\n",
       "      <th>Quality of Sleep</th>\n",
       "      <th>Physical Activity Level</th>\n",
       "      <th>Stress Level</th>\n",
       "      <th>Heart Rate</th>\n",
       "      <th>Daily Steps</th>\n",
       "    </tr>\n",
       "  </thead>\n",
       "  <tbody>\n",
       "    <tr>\n",
       "      <th>count</th>\n",
       "      <td>374.000000</td>\n",
       "      <td>374.000000</td>\n",
       "      <td>374.000000</td>\n",
       "      <td>374.000000</td>\n",
       "      <td>374.000000</td>\n",
       "      <td>374.000000</td>\n",
       "      <td>374.000000</td>\n",
       "      <td>374.000000</td>\n",
       "    </tr>\n",
       "    <tr>\n",
       "      <th>mean</th>\n",
       "      <td>187.500000</td>\n",
       "      <td>42.184492</td>\n",
       "      <td>7.132086</td>\n",
       "      <td>7.312834</td>\n",
       "      <td>59.171123</td>\n",
       "      <td>5.385027</td>\n",
       "      <td>70.165775</td>\n",
       "      <td>6816.844920</td>\n",
       "    </tr>\n",
       "    <tr>\n",
       "      <th>std</th>\n",
       "      <td>108.108742</td>\n",
       "      <td>8.673133</td>\n",
       "      <td>0.795657</td>\n",
       "      <td>1.196956</td>\n",
       "      <td>20.830804</td>\n",
       "      <td>1.774526</td>\n",
       "      <td>4.135676</td>\n",
       "      <td>1617.915679</td>\n",
       "    </tr>\n",
       "    <tr>\n",
       "      <th>min</th>\n",
       "      <td>1.000000</td>\n",
       "      <td>27.000000</td>\n",
       "      <td>5.800000</td>\n",
       "      <td>4.000000</td>\n",
       "      <td>30.000000</td>\n",
       "      <td>3.000000</td>\n",
       "      <td>65.000000</td>\n",
       "      <td>3000.000000</td>\n",
       "    </tr>\n",
       "    <tr>\n",
       "      <th>25%</th>\n",
       "      <td>94.250000</td>\n",
       "      <td>35.250000</td>\n",
       "      <td>6.400000</td>\n",
       "      <td>6.000000</td>\n",
       "      <td>45.000000</td>\n",
       "      <td>4.000000</td>\n",
       "      <td>68.000000</td>\n",
       "      <td>5600.000000</td>\n",
       "    </tr>\n",
       "    <tr>\n",
       "      <th>50%</th>\n",
       "      <td>187.500000</td>\n",
       "      <td>43.000000</td>\n",
       "      <td>7.200000</td>\n",
       "      <td>7.000000</td>\n",
       "      <td>60.000000</td>\n",
       "      <td>5.000000</td>\n",
       "      <td>70.000000</td>\n",
       "      <td>7000.000000</td>\n",
       "    </tr>\n",
       "    <tr>\n",
       "      <th>75%</th>\n",
       "      <td>280.750000</td>\n",
       "      <td>50.000000</td>\n",
       "      <td>7.800000</td>\n",
       "      <td>8.000000</td>\n",
       "      <td>75.000000</td>\n",
       "      <td>7.000000</td>\n",
       "      <td>72.000000</td>\n",
       "      <td>8000.000000</td>\n",
       "    </tr>\n",
       "    <tr>\n",
       "      <th>max</th>\n",
       "      <td>374.000000</td>\n",
       "      <td>59.000000</td>\n",
       "      <td>8.500000</td>\n",
       "      <td>9.000000</td>\n",
       "      <td>90.000000</td>\n",
       "      <td>8.000000</td>\n",
       "      <td>86.000000</td>\n",
       "      <td>10000.000000</td>\n",
       "    </tr>\n",
       "  </tbody>\n",
       "</table>\n",
       "</div>"
      ],
      "text/plain": [
       "        Person ID         Age  Sleep Duration  Quality of Sleep  \\\n",
       "count  374.000000  374.000000      374.000000        374.000000   \n",
       "mean   187.500000   42.184492        7.132086          7.312834   \n",
       "std    108.108742    8.673133        0.795657          1.196956   \n",
       "min      1.000000   27.000000        5.800000          4.000000   \n",
       "25%     94.250000   35.250000        6.400000          6.000000   \n",
       "50%    187.500000   43.000000        7.200000          7.000000   \n",
       "75%    280.750000   50.000000        7.800000          8.000000   \n",
       "max    374.000000   59.000000        8.500000          9.000000   \n",
       "\n",
       "       Physical Activity Level  Stress Level  Heart Rate   Daily Steps  \n",
       "count               374.000000    374.000000  374.000000    374.000000  \n",
       "mean                 59.171123      5.385027   70.165775   6816.844920  \n",
       "std                  20.830804      1.774526    4.135676   1617.915679  \n",
       "min                  30.000000      3.000000   65.000000   3000.000000  \n",
       "25%                  45.000000      4.000000   68.000000   5600.000000  \n",
       "50%                  60.000000      5.000000   70.000000   7000.000000  \n",
       "75%                  75.000000      7.000000   72.000000   8000.000000  \n",
       "max                  90.000000      8.000000   86.000000  10000.000000  "
      ]
     },
     "execution_count": 35,
     "metadata": {},
     "output_type": "execute_result"
    }
   ],
   "source": [
    "data.describe()"
   ]
  },
  {
   "cell_type": "code",
   "execution_count": 36,
   "metadata": {},
   "outputs": [
    {
     "data": {
      "text/html": [
       "<div>\n",
       "<style scoped>\n",
       "    .dataframe tbody tr th:only-of-type {\n",
       "        vertical-align: middle;\n",
       "    }\n",
       "\n",
       "    .dataframe tbody tr th {\n",
       "        vertical-align: top;\n",
       "    }\n",
       "\n",
       "    .dataframe thead th {\n",
       "        text-align: right;\n",
       "    }\n",
       "</style>\n",
       "<table border=\"1\" class=\"dataframe\">\n",
       "  <thead>\n",
       "    <tr style=\"text-align: right;\">\n",
       "      <th></th>\n",
       "      <th>Sleep Duration</th>\n",
       "      <th>Stress Level</th>\n",
       "      <th>Heart Rate</th>\n",
       "      <th>Daily Steps</th>\n",
       "      <th>Quality of Sleep</th>\n",
       "    </tr>\n",
       "  </thead>\n",
       "  <tbody>\n",
       "    <tr>\n",
       "      <th>0</th>\n",
       "      <td>6.1</td>\n",
       "      <td>6</td>\n",
       "      <td>77</td>\n",
       "      <td>4200</td>\n",
       "      <td>6</td>\n",
       "    </tr>\n",
       "    <tr>\n",
       "      <th>1</th>\n",
       "      <td>6.2</td>\n",
       "      <td>8</td>\n",
       "      <td>75</td>\n",
       "      <td>10000</td>\n",
       "      <td>6</td>\n",
       "    </tr>\n",
       "    <tr>\n",
       "      <th>2</th>\n",
       "      <td>6.2</td>\n",
       "      <td>8</td>\n",
       "      <td>75</td>\n",
       "      <td>10000</td>\n",
       "      <td>6</td>\n",
       "    </tr>\n",
       "    <tr>\n",
       "      <th>3</th>\n",
       "      <td>5.9</td>\n",
       "      <td>8</td>\n",
       "      <td>85</td>\n",
       "      <td>3000</td>\n",
       "      <td>4</td>\n",
       "    </tr>\n",
       "    <tr>\n",
       "      <th>4</th>\n",
       "      <td>5.9</td>\n",
       "      <td>8</td>\n",
       "      <td>85</td>\n",
       "      <td>3000</td>\n",
       "      <td>4</td>\n",
       "    </tr>\n",
       "  </tbody>\n",
       "</table>\n",
       "</div>"
      ],
      "text/plain": [
       "   Sleep Duration  Stress Level  Heart Rate  Daily Steps  Quality of Sleep\n",
       "0             6.1             6          77         4200                 6\n",
       "1             6.2             8          75        10000                 6\n",
       "2             6.2             8          75        10000                 6\n",
       "3             5.9             8          85         3000                 4\n",
       "4             5.9             8          85         3000                 4"
      ]
     },
     "execution_count": 36,
     "metadata": {},
     "output_type": "execute_result"
    }
   ],
   "source": [
    "data = data[['Sleep Duration', 'Stress Level', 'Heart Rate', 'Daily Steps', 'Quality of Sleep']]\n",
    "data.head()"
   ]
  },
  {
   "cell_type": "code",
   "execution_count": 37,
   "metadata": {},
   "outputs": [],
   "source": [
    "predict = 'Quality of Sleep'"
   ]
  },
  {
   "cell_type": "code",
   "execution_count": 42,
   "metadata": {},
   "outputs": [],
   "source": [
    "#x doesnt have Qaulity of Sleep\n",
    "x = np.array(data.drop(['Quality of Sleep'], axis=1))"
   ]
  },
  {
   "cell_type": "code",
   "execution_count": 43,
   "metadata": {},
   "outputs": [],
   "source": [
    "#y only has Quality of Sleep\n",
    "y = np.array(data['Quality of Sleep'])"
   ]
  },
  {
   "cell_type": "code",
   "execution_count": 44,
   "metadata": {},
   "outputs": [],
   "source": [
    "x_train, x_test, y_train, y_test = sklearn.model_selection.train_test_split(x,y, test_size=.1)"
   ]
  },
  {
   "cell_type": "code",
   "execution_count": 45,
   "metadata": {},
   "outputs": [
    {
     "name": "stdout",
     "output_type": "stream",
     "text": [
      "0.9132252946137371\n"
     ]
    }
   ],
   "source": [
    "linear = linear_model.LinearRegression()\n",
    "\n",
    "linear.fit(x_train, y_train)\n",
    "acc = linear.score(x_test, y_test)\n",
    "print(acc)"
   ]
  },
  {
   "cell_type": "code",
   "execution_count": 51,
   "metadata": {},
   "outputs": [
    {
     "name": "stdout",
     "output_type": "stream",
     "text": [
      "Co: \n",
      " [ 6.22282219e-01 -3.66967065e-01 -2.23258504e-02  1.04156280e-04]\n",
      "Intercept: \n",
      " 5.689997785804443\n"
     ]
    }
   ],
   "source": [
    "print('Co: \\n', linear.coef_)\n",
    "print('Intercept: \\n' , linear.intercept_)"
   ]
  },
  {
   "cell_type": "code",
   "execution_count": 52,
   "metadata": {},
   "outputs": [],
   "source": [
    "pre = linear.predict(x_test)"
   ]
  },
  {
   "cell_type": "code",
   "execution_count": 60,
   "metadata": {},
   "outputs": [
    {
     "name": "stdout",
     "output_type": "stream",
     "text": [
      "7.9 [7.7e+00 5.0e+00 7.0e+01 8.0e+03] 8\n",
      "8.8 [8.0e+00 3.0e+00 6.8e+01 7.0e+03] 9\n",
      "8.0 [7.8e+00 5.0e+00 7.0e+01 8.0e+03] 8\n",
      "8.0 [7.8e+00 5.0e+00 7.0e+01 8.0e+03] 8\n",
      "6.1 [   6.3    7.    72.  6000. ] 6\n",
      "7.9 [7.7e+00 5.0e+00 7.0e+01 8.0e+03] 8\n",
      "8.9 [8.4e+00 3.0e+00 6.5e+01 5.0e+03] 9\n",
      "7.7 [7.2e+00 5.0e+00 6.8e+01 8.0e+03] 8\n",
      "5.5 [   6.1    8.    72.  5000. ] 6\n",
      "8.9 [8.4e+00 3.0e+00 6.5e+01 5.0e+03] 9\n",
      "7.9 [7.7e+00 5.0e+00 7.0e+01 8.0e+03] 8\n",
      "5.4 [   6.    8.   72. 5000.] 6\n",
      "6.2 [   6.6    7.    72.  6000. ] 7\n",
      "6.2 [   6.5    7.    72.  6000. ] 6\n",
      "8.8 [8.3e+00 3.0e+00 6.5e+01 5.0e+03] 9\n",
      "5.8 [6.e+00 8.e+00 7.e+01 8.e+03] 6\n",
      "7.6 [7.1e+00 5.0e+00 6.8e+01 8.0e+03] 8\n",
      "7.8 [7.3e+00 4.0e+00 6.5e+01 5.0e+03] 8\n",
      "7.5 [6.6e+00 4.0e+00 6.5e+01 6.0e+03] 7\n",
      "5.4 [   6.    8.   72. 5000.] 6\n",
      "6.1 [   6.4    7.    72.  6000. ] 6\n",
      "6.0 [6.2e+00 8.0e+00 7.5e+01 1.0e+04] 6\n",
      "7.2 [7.2e+00 6.0e+00 6.8e+01 7.0e+03] 8\n",
      "7.9 [7.1e+00 4.0e+00 6.8e+01 7.0e+03] 8\n",
      "5.5 [   6.1    8.    72.  5000. ] 6\n",
      "8.8 [8.0e+00 3.0e+00 6.8e+01 7.0e+03] 9\n",
      "5.8 [6.e+00 8.e+00 7.e+01 8.e+03] 6\n",
      "7.6 [7.7e+00 6.0e+00 7.0e+01 8.0e+03] 7\n",
      "7.9 [7.1e+00 4.0e+00 6.8e+01 7.0e+03] 8\n",
      "8.8 [8.1e+00 3.0e+00 6.8e+01 7.0e+03] 9\n",
      "8.9 [8.4e+00 3.0e+00 6.5e+01 5.0e+03] 9\n",
      "8.8 [8.1e+00 3.0e+00 6.8e+01 7.0e+03] 9\n",
      "7.6 [7.7e+00 6.0e+00 7.0e+01 8.0e+03] 7\n",
      "8.9 [8.2e+00 3.0e+00 6.8e+01 7.0e+03] 9\n",
      "8.8 [8.1e+00 3.0e+00 6.8e+01 7.0e+03] 9\n",
      "6.7 [   6.9    6.    75.  5500. ] 7\n",
      "8.8 [8.3e+00 3.0e+00 6.5e+01 5.0e+03] 9\n",
      "5.5 [   6.1    8.    72.  5000. ] 6\n"
     ]
    }
   ],
   "source": [
    "for x in range(len(pre)):\n",
    "    print(round(pre[x], 1), x_test[x], y_test[x])"
   ]
  }
 ],
 "metadata": {
  "kernelspec": {
   "display_name": "Python 3",
   "language": "python",
   "name": "python3"
  },
  "language_info": {
   "codemirror_mode": {
    "name": "ipython",
    "version": 3
   },
   "file_extension": ".py",
   "mimetype": "text/x-python",
   "name": "python",
   "nbconvert_exporter": "python",
   "pygments_lexer": "ipython3",
   "version": "3.11.1"
  },
  "orig_nbformat": 4
 },
 "nbformat": 4,
 "nbformat_minor": 2
}
